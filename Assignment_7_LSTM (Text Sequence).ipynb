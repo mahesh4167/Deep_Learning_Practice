{
 "cells": [
  {
   "cell_type": "code",
   "execution_count": 1,
   "id": "6f62ed2d",
   "metadata": {},
   "outputs": [],
   "source": [
    "# import tensorflow as tf\n",
    "# from tensorflow.keras.preprocessing.text import Tokenizer\n",
    "# from tensorflow.keras.preprocessing.sequence import pad_sequences\n",
    "# import numpy as np\n",
    "\n",
    "# # Sample text data\n",
    "# corpus = [\n",
    "#     \"I enjoy deep learning.\",\n",
    "#     \"Deep learning is fascinating.\",\n",
    "#     \"Deep learning has applications in many fields.\",\n",
    "#     \"I want to learn more about deep learning.\",\n",
    "# ]\n",
    "\n",
    "# # Tokenize the text data\n",
    "# tokenizer = Tokenizer()\n",
    "# tokenizer.fit_on_texts(corpus)\n",
    "# total_words = len(tokenizer.word_index) + 1  # Add 1 for the out-of-vocabulary (OOV) token\n",
    "\n",
    "# # Create input sequences and labels for training\n",
    "# input_sequences = []\n",
    "# for line in corpus:\n",
    "#     token_list = tokenizer.texts_to_sequences([line])[0]\n",
    "#     for i in range(1, len(token_list)):\n",
    "#         n_gram_sequence = token_list[:i + 1]\n",
    "#         input_sequences.append(n_gram_sequence)\n",
    "        \n",
    "# # Pad sequences to have the same length\n",
    "# max_sequence_length = max(len(seq) for seq in input_sequences)\n",
    "# input_sequences = pad_sequences(input_sequences, maxlen=max_sequence_length, padding='pre')\n",
    "\n",
    "\n",
    "# print(input_sequences[:,-1])\n",
    "# # Create predictors and labels\n",
    "# X = input_sequences[:, :-1]\n",
    "# y = input_sequences[:, -1]\n",
    "\n",
    "# # Convert labels to one-hot encoding\n",
    "# y = tf.keras.utils.to_categorical(y, num_classes=total_words)\n",
    "# print(y)\n",
    "# # # Build an LSTM model\n",
    "# # model = tf.keras.Sequential([\n",
    "# #     tf.keras.layers.Embedding(total_words, 100, input_length=max_sequence_length - 1),\n",
    "# #     tf.keras.layers.LSTM(150),\n",
    "# #     tf.keras.layers.Dense(total_words, activation='softmax')\n",
    "# # ])\n",
    "\n",
    "# # model.compile(loss='categorical_crossentropy', optimizer='adam', metrics=['accuracy'])\n",
    "# # model.fit(X, y, epochs=100, verbose=1)\n",
    "\n",
    "# # # Function to predict the next word\n",
    "# # def predict_next_word(seed_text, next_words):\n",
    "# #     for _ in range(next_words):\n",
    "# #         token_list = tokenizer.texts_to_sequences([seed_text])[0]\n",
    "# #         token_list = pad_sequences([token_list], maxlen=max_sequence_length - 1, padding='pre')\n",
    "# #         predicted = model.predict_classes(token_list, verbose=0)\n",
    "# #         output_word = \"\"\n",
    "# #         for word, index in tokenizer.word_index.items():\n",
    "# #             if index == predicted:\n",
    "# #                 output_word = word\n",
    "# #                 break\n",
    "# #         seed_text += \" \" + output_word\n",
    "# #     return seed_text\n",
    "\n",
    "# # # Generate text\n",
    "# # generated_text = predict_next_word(\"I enjoy\", next_words=5)\n",
    "# # print(generated_text)\n"
   ]
  },
  {
   "cell_type": "code",
   "execution_count": 1,
   "id": "a4e1334e",
   "metadata": {},
   "outputs": [],
   "source": [
    "import pandas as pd\n",
    "import numpy as np\n",
    "import tensorflow as tf\n",
    "import re\n",
    "from keras.preprocessing.text import Tokenizer\n",
    "from keras.utils import pad_sequences\n",
    "from keras.models import Sequential\n",
    "from keras.layers import LSTM , Embedding , Dense\n",
    "from keras.regularizers import L2\n",
    "import matplotlib.pyplot as plt"
   ]
  },
  {
   "cell_type": "code",
   "execution_count": 2,
   "id": "b59515a4",
   "metadata": {},
   "outputs": [],
   "source": [
    "df = pd.read_csv(r\"C:\\Users\\MAhesh\\FERGUSSON\\SEM 3\\DEEP LEARNING\\Datasets\\stories (Text Sequence).csv\")"
   ]
  },
  {
   "cell_type": "code",
   "execution_count": 3,
   "id": "aeb5b550",
   "metadata": {},
   "outputs": [
    {
     "data": {
      "text/html": [
       "<div>\n",
       "<style scoped>\n",
       "    .dataframe tbody tr th:only-of-type {\n",
       "        vertical-align: middle;\n",
       "    }\n",
       "\n",
       "    .dataframe tbody tr th {\n",
       "        vertical-align: top;\n",
       "    }\n",
       "\n",
       "    .dataframe thead th {\n",
       "        text-align: right;\n",
       "    }\n",
       "</style>\n",
       "<table border=\"1\" class=\"dataframe\">\n",
       "  <thead>\n",
       "    <tr style=\"text-align: right;\">\n",
       "      <th></th>\n",
       "      <th>Unnamed: 0</th>\n",
       "      <th>story</th>\n",
       "    </tr>\n",
       "  </thead>\n",
       "  <tbody>\n",
       "    <tr>\n",
       "      <th>0</th>\n",
       "      <td>0</td>\n",
       "      <td>All in due time.\\n\\nWhen our plane landed and ...</td>\n",
       "    </tr>\n",
       "    <tr>\n",
       "      <th>1</th>\n",
       "      <td>1</td>\n",
       "      <td>Millionaire.\\n\\nWhen my checking account regis...</td>\n",
       "    </tr>\n",
       "    <tr>\n",
       "      <th>2</th>\n",
       "      <td>2</td>\n",
       "      <td>LIVE ON THE SCENE!\\n\\n\"Thats right, Kelly, if ...</td>\n",
       "    </tr>\n",
       "    <tr>\n",
       "      <th>3</th>\n",
       "      <td>3</td>\n",
       "      <td>The New Kid\\n\\nThere was something off about t...</td>\n",
       "    </tr>\n",
       "    <tr>\n",
       "      <th>4</th>\n",
       "      <td>4</td>\n",
       "      <td>Seven\\n\\nSeven. \\n\\nHow can such a boring numb...</td>\n",
       "    </tr>\n",
       "  </tbody>\n",
       "</table>\n",
       "</div>"
      ],
      "text/plain": [
       "   Unnamed: 0                                              story\n",
       "0           0  All in due time.\\n\\nWhen our plane landed and ...\n",
       "1           1  Millionaire.\\n\\nWhen my checking account regis...\n",
       "2           2  LIVE ON THE SCENE!\\n\\n\"Thats right, Kelly, if ...\n",
       "3           3  The New Kid\\n\\nThere was something off about t...\n",
       "4           4  Seven\\n\\nSeven. \\n\\nHow can such a boring numb..."
      ]
     },
     "execution_count": 3,
     "metadata": {},
     "output_type": "execute_result"
    }
   ],
   "source": [
    "df.head(5)"
   ]
  },
  {
   "cell_type": "code",
   "execution_count": 4,
   "id": "6e57cd8c",
   "metadata": {},
   "outputs": [],
   "source": [
    "df.drop(\"Unnamed: 0\",axis = 1,inplace = True)"
   ]
  },
  {
   "cell_type": "code",
   "execution_count": 5,
   "id": "c112dd12",
   "metadata": {},
   "outputs": [],
   "source": [
    "def remove(i):\n",
    "    i = re.sub(\"\\n\",\" \",i)\n",
    "    i = re.sub(r'[^\\w\\s]',\"\",i)\n",
    "    return i\n",
    "\n",
    "def to_lower(i):\n",
    "    i = i.lower()\n",
    "    return i\n",
    "\n",
    "df['story'] = df['story'].apply(remove)\n",
    "df['story'] = df['story'].apply(to_lower)"
   ]
  },
  {
   "cell_type": "markdown",
   "id": "f37bef79",
   "metadata": {},
   "source": [
    "# Tokenizing and Preprocessing"
   ]
  },
  {
   "cell_type": "code",
   "execution_count": 6,
   "id": "c1b901cf",
   "metadata": {},
   "outputs": [],
   "source": [
    "tokenizer = Tokenizer()\n",
    "tokenizer.fit_on_texts(df['story'])"
   ]
  },
  {
   "cell_type": "code",
   "execution_count": 7,
   "id": "81e8d1d6",
   "metadata": {},
   "outputs": [],
   "source": [
    "sequences = tokenizer.texts_to_sequences(df['story'])"
   ]
  },
  {
   "cell_type": "markdown",
   "id": "d4007b2c",
   "metadata": {},
   "source": [
    "# Creating input and labels"
   ]
  },
  {
   "cell_type": "markdown",
   "id": "eac9f153",
   "metadata": {},
   "source": [
    "We will create n-grams from 1 to 5"
   ]
  },
  {
   "cell_type": "code",
   "execution_count": 8,
   "id": "60b20ddc",
   "metadata": {},
   "outputs": [],
   "source": [
    "inputs = []\n",
    "outputs = []\n",
    "for sequence in sequences :\n",
    "    for i in range(1,len(sequence)):\n",
    "        if i <= 5 :\n",
    "            inputs.append(sequence[:i])\n",
    "            outputs.append(sequence[i])\n",
    "        else :\n",
    "            inputs.append(sequence[i-5:i])\n",
    "            outputs.append(sequence[i])\n"
   ]
  },
  {
   "cell_type": "code",
   "execution_count": 9,
   "id": "15b19887",
   "metadata": {},
   "outputs": [
    {
     "name": "stdout",
     "output_type": "stream",
     "text": [
      "INPUT :  [52] \n",
      " OUTPUT :  8\n",
      "INPUT :  [52, 8] \n",
      " OUTPUT :  316\n",
      "INPUT :  [52, 8, 316] \n",
      " OUTPUT :  73\n",
      "INPUT :  [52, 8, 316, 73] \n",
      " OUTPUT :  43\n",
      "INPUT :  [52, 8, 316, 73, 43] \n",
      " OUTPUT :  45\n",
      "INPUT :  [8, 316, 73, 43, 45] \n",
      " OUTPUT :  317\n",
      "INPUT :  [316, 73, 43, 45, 317] \n",
      " OUTPUT :  737\n",
      "INPUT :  [73, 43, 45, 317, 737] \n",
      " OUTPUT :  3\n",
      "INPUT :  [43, 45, 317, 737, 3] \n",
      " OUTPUT :  2\n",
      "INPUT :  [45, 317, 737, 3, 2] \n",
      " OUTPUT :  738\n"
     ]
    }
   ],
   "source": [
    "for i in range(10) :\n",
    "     print(\"INPUT : \",inputs[i],\"\\n OUTPUT : \",outputs[i])"
   ]
  },
  {
   "cell_type": "markdown",
   "id": "257f0a61",
   "metadata": {},
   "source": [
    "Padding Sequences to have same length"
   ]
  },
  {
   "cell_type": "code",
   "execution_count": 10,
   "id": "05180567",
   "metadata": {},
   "outputs": [],
   "source": [
    "inputs = pad_sequences(inputs , maxlen=5 , padding='pre')"
   ]
  },
  {
   "cell_type": "markdown",
   "id": "2a42b5bc",
   "metadata": {},
   "source": [
    "Creating X and y"
   ]
  },
  {
   "cell_type": "code",
   "execution_count": 11,
   "id": "661332ae",
   "metadata": {},
   "outputs": [],
   "source": [
    "X = inputs"
   ]
  },
  {
   "cell_type": "code",
   "execution_count": 12,
   "id": "b3aecaf4",
   "metadata": {},
   "outputs": [],
   "source": [
    "y = tf.keras.utils.to_categorical(outputs , num_classes = len(tokenizer.word_index) + 1 )"
   ]
  },
  {
   "cell_type": "code",
   "execution_count": 13,
   "id": "b2872c5c",
   "metadata": {},
   "outputs": [
    {
     "name": "stdout",
     "output_type": "stream",
     "text": [
      "INPUT :  [ 0  0  0  0 52] \n",
      " OUTPUT :  [0. 0. 0. ... 0. 0. 0.]\n",
      "INPUT :  [ 0  0  0 52  8] \n",
      " OUTPUT :  [0. 0. 0. ... 0. 0. 0.]\n",
      "INPUT :  [  0   0  52   8 316] \n",
      " OUTPUT :  [0. 0. 0. ... 0. 0. 0.]\n",
      "INPUT :  [  0  52   8 316  73] \n",
      " OUTPUT :  [0. 0. 0. ... 0. 0. 0.]\n",
      "INPUT :  [ 52   8 316  73  43] \n",
      " OUTPUT :  [0. 0. 0. ... 0. 0. 0.]\n",
      "INPUT :  [  8 316  73  43  45] \n",
      " OUTPUT :  [0. 0. 0. ... 0. 0. 0.]\n",
      "INPUT :  [316  73  43  45 317] \n",
      " OUTPUT :  [0. 0. 0. ... 0. 0. 0.]\n",
      "INPUT :  [ 73  43  45 317 737] \n",
      " OUTPUT :  [0. 0. 0. ... 0. 0. 0.]\n",
      "INPUT :  [ 43  45 317 737   3] \n",
      " OUTPUT :  [0. 0. 1. ... 0. 0. 0.]\n",
      "INPUT :  [ 45 317 737   3   2] \n",
      " OUTPUT :  [0. 0. 0. ... 0. 0. 0.]\n"
     ]
    }
   ],
   "source": [
    "for i in range(10) :\n",
    "     print(\"INPUT : \",X[i],\"\\n OUTPUT : \",y[i])"
   ]
  },
  {
   "cell_type": "code",
   "execution_count": 14,
   "id": "e864e3a7",
   "metadata": {},
   "outputs": [],
   "source": [
    "# y = pd.DataFrame(outputs)\n",
    "# y = pd.get_dummies(y , columns=['Outputs'])\n",
    "# y.head()\n",
    "# another option"
   ]
  },
  {
   "cell_type": "code",
   "execution_count": 15,
   "id": "08192c5f",
   "metadata": {},
   "outputs": [
    {
     "data": {
      "text/plain": [
       "2964"
      ]
     },
     "execution_count": 15,
     "metadata": {},
     "output_type": "execute_result"
    }
   ],
   "source": [
    "total_words = len(tokenizer.word_index)+1\n",
    "total_words"
   ]
  },
  {
   "cell_type": "markdown",
   "id": "1b43460c",
   "metadata": {},
   "source": [
    "# LSTM model"
   ]
  },
  {
   "cell_type": "code",
   "execution_count": 16,
   "id": "4e5ff7c9",
   "metadata": {},
   "outputs": [
    {
     "name": "stdout",
     "output_type": "stream",
     "text": [
      "Epoch 1/20\n",
      "13/13 [==============================] - 12s 43ms/step - loss: 8.0632 - accuracy: 0.0200\n",
      "Epoch 2/20\n",
      "13/13 [==============================] - 0s 29ms/step - loss: 8.0412 - accuracy: 0.0329\n",
      "Epoch 3/20\n",
      "13/13 [==============================] - 0s 29ms/step - loss: 8.0148 - accuracy: 0.0315\n",
      "Epoch 4/20\n",
      "13/13 [==============================] - 0s 31ms/step - loss: 7.9784 - accuracy: 0.0310\n",
      "Epoch 5/20\n",
      "13/13 [==============================] - 0s 31ms/step - loss: 7.9219 - accuracy: 0.0310\n",
      "Epoch 6/20\n",
      "13/13 [==============================] - 0s 32ms/step - loss: 7.8253 - accuracy: 0.0310\n",
      "Epoch 7/20\n",
      "13/13 [==============================] - 0s 30ms/step - loss: 7.6608 - accuracy: 0.0310\n",
      "Epoch 8/20\n",
      "13/13 [==============================] - 0s 31ms/step - loss: 7.4327 - accuracy: 0.0310\n",
      "Epoch 9/20\n",
      "13/13 [==============================] - 0s 31ms/step - loss: 7.2019 - accuracy: 0.0310\n",
      "Epoch 10/20\n",
      "13/13 [==============================] - 0s 30ms/step - loss: 7.0167 - accuracy: 0.0310\n",
      "Epoch 11/20\n",
      "13/13 [==============================] - 0s 30ms/step - loss: 6.8792 - accuracy: 0.0310\n",
      "Epoch 12/20\n",
      "13/13 [==============================] - 0s 31ms/step - loss: 6.7782 - accuracy: 0.0310\n",
      "Epoch 13/20\n",
      "13/13 [==============================] - 0s 30ms/step - loss: 6.7029 - accuracy: 0.0310\n",
      "Epoch 14/20\n",
      "13/13 [==============================] - 0s 32ms/step - loss: 6.6458 - accuracy: 0.0310\n",
      "Epoch 15/20\n",
      "13/13 [==============================] - 0s 32ms/step - loss: 6.6011 - accuracy: 0.0310\n",
      "Epoch 16/20\n",
      "13/13 [==============================] - 0s 34ms/step - loss: 6.5663 - accuracy: 0.0310\n",
      "Epoch 17/20\n",
      "13/13 [==============================] - 0s 31ms/step - loss: 6.5383 - accuracy: 0.0310\n",
      "Epoch 18/20\n",
      "13/13 [==============================] - 0s 37ms/step - loss: 6.5158 - accuracy: 0.0310\n",
      "Epoch 19/20\n",
      "13/13 [==============================] - 0s 38ms/step - loss: 6.4980 - accuracy: 0.0314\n",
      "Epoch 20/20\n",
      "13/13 [==============================] - 0s 36ms/step - loss: 6.4837 - accuracy: 0.0340\n"
     ]
    },
    {
     "data": {
      "image/png": "[encoded data removed]",
      "text/plain": [
       "<Figure size 640x480 with 1 Axes>"
      ]
     },
     "metadata": {},
     "output_type": "display_data"
    },
    {
     "data": {
      "image/png": "[encoded data removed]",
      "text/plain": [
       "<Figure size 640x480 with 1 Axes>"
      ]
     },
     "metadata": {},
     "output_type": "display_data"
    }
   ],
   "source": [
    "model_1 = Sequential ()\n",
    "model_1.add(Embedding(total_words , 10 ))\n",
    "model_1.add(LSTM(10 , activation='tanh' , kernel_regularizer= L2(0.005) ))\n",
    "model_1.add(Dense(total_words, activation='softmax'))\n",
    "\n",
    "\n",
    "model_1.compile(loss='categorical_crossentropy', optimizer='adam', metrics=['accuracy'])\n",
    "\n",
    "\n",
    "history = model_1.fit(X , y , epochs=20 , verbose=1 ,batch_size = 1000)\n",
    "\n",
    "\n",
    "plt.plot(history.history['loss'])\n",
    "plt.xlabel(\"Epochs\")\n",
    "plt.ylabel(\"Loss\")\n",
    "plt.title(\"LOSS\")\n",
    "plt.show()\n",
    "\n",
    "\n",
    "plt.plot(history.history['accuracy'])\n",
    "plt.xlabel(\"Epochs\")\n",
    "plt.ylabel(\"Accuracy\")\n",
    "plt.title(\"Accuracy\")\n",
    "plt.show()\n"
   ]
  },
  {
   "cell_type": "markdown",
   "id": "81bae763",
   "metadata": {},
   "source": [
    "# Predictions "
   ]
  },
  {
   "cell_type": "code",
   "execution_count": 108,
   "id": "22944976",
   "metadata": {},
   "outputs": [],
   "source": [
    "text = \"line hearing screams in the airport and as i looked over\""
   ]
  },
  {
   "cell_type": "code",
   "execution_count": 109,
   "id": "ff1a8155",
   "metadata": {},
   "outputs": [],
   "source": [
    "text = [text]"
   ]
  },
  {
   "cell_type": "code",
   "execution_count": 110,
   "id": "dce3be83",
   "metadata": {},
   "outputs": [
    {
     "data": {
      "text/plain": [
       "[[196, 756, 320, 8, 1, 318, 3, 14, 2, 95, 69]]"
      ]
     },
     "execution_count": 110,
     "metadata": {},
     "output_type": "execute_result"
    }
   ],
   "source": [
    "sequence = tokenizer.texts_to_sequences(text)\n",
    "sequence"
   ]
  },
  {
   "cell_type": "code",
   "execution_count": 111,
   "id": "613306bf",
   "metadata": {},
   "outputs": [
    {
     "data": {
      "text/plain": [
       "array([[ 3, 14,  2, 95, 69]])"
      ]
     },
     "execution_count": 111,
     "metadata": {},
     "output_type": "execute_result"
    }
   ],
   "source": [
    "sequence = pad_sequences(sequence ,maxlen = 5 , padding='pre')\n",
    "sequence"
   ]
  },
  {
   "cell_type": "code",
   "execution_count": 112,
   "id": "34e5fc57",
   "metadata": {},
   "outputs": [
    {
     "name": "stdout",
     "output_type": "stream",
     "text": [
      "1/1 [==============================] - 0s 32ms/step\n"
     ]
    }
   ],
   "source": [
    "y_pred = model_1.predict(sequence)"
   ]
  },
  {
   "cell_type": "code",
   "execution_count": 113,
   "id": "959bcbb3",
   "metadata": {},
   "outputs": [
    {
     "data": {
      "text/plain": [
       "array([3.2680004e-05, 2.2394864e-02, 2.3624906e-02, ..., 5.9517319e-05,\n",
       "       7.5514734e-05, 9.8785022e-05], dtype=float32)"
      ]
     },
     "execution_count": 113,
     "metadata": {},
     "output_type": "execute_result"
    }
   ],
   "source": [
    "y_pred = y_pred[0]\n",
    "y_pred"
   ]
  },
  {
   "cell_type": "code",
   "execution_count": 114,
   "id": "eb947651",
   "metadata": {},
   "outputs": [
    {
     "data": {
      "text/plain": [
       "2467"
      ]
     },
     "execution_count": 114,
     "metadata": {},
     "output_type": "execute_result"
    }
   ],
   "source": [
    "index = np.where(y_pred == min(y_pred))\n",
    "index = index[0][0]\n",
    "index"
   ]
  },
  {
   "cell_type": "code",
   "execution_count": 115,
   "id": "540057a4",
   "metadata": {},
   "outputs": [
    {
     "data": {
      "text/plain": [
       "2.6756932e-05"
      ]
     },
     "execution_count": 115,
     "metadata": {},
     "output_type": "execute_result"
    }
   ],
   "source": [
    "y_pred[index]"
   ]
  },
  {
   "cell_type": "code",
   "execution_count": 116,
   "id": "c1696a8a",
   "metadata": {},
   "outputs": [],
   "source": [
    "for key, value in tokenizer.word_index.items():\n",
    "    if value == index:\n",
    "        found_key = key\n",
    "        break  "
   ]
  },
  {
   "cell_type": "code",
   "execution_count": 117,
   "id": "b28b7bcb",
   "metadata": {},
   "outputs": [
    {
     "data": {
      "text/plain": [
       "'gravity'"
      ]
     },
     "execution_count": 117,
     "metadata": {},
     "output_type": "execute_result"
    }
   ],
   "source": [
    "found_key"
   ]
  },
  {
   "cell_type": "code",
   "execution_count": 118,
   "id": "35d16fdc",
   "metadata": {},
   "outputs": [
    {
     "data": {
      "text/plain": [
       "'line hearing screams in the airport and as i looked over gravity'"
      ]
     },
     "execution_count": 118,
     "metadata": {},
     "output_type": "execute_result"
    }
   ],
   "source": [
    "text[0] + \" \" + found_key"
   ]
  },
  {
   "cell_type": "code",
   "execution_count": 119,
   "id": "fdc6eb86",
   "metadata": {},
   "outputs": [],
   "source": [
    "def prediction(text , next_words):\n",
    "    for next_word in range(next_words):\n",
    "        text = [text]\n",
    "        sequence = tokenizer.texts_to_sequences(text)\n",
    "        sequence = pad_sequences(sequence ,maxlen = 5 , padding='pre')\n",
    "        y_pred = model_1.predict(sequence)\n",
    "        y_pred = y_pred[0]\n",
    "        index = np.where(y_pred == max(y_pred))\n",
    "        index = index[0][0]\n",
    "        for key, value in tokenizer.word_index.items():\n",
    "            if value == index:\n",
    "                found_key = key\n",
    "                break  \n",
    "        text = text[0] + \" \" + found_key\n",
    "        print(text)\n"
   ]
  },
  {
   "cell_type": "code",
   "execution_count": 121,
   "id": "c96b4361",
   "metadata": {},
   "outputs": [
    {
     "name": "stdout",
     "output_type": "stream",
     "text": [
      "1/1 [==============================] - 0s 21ms/step\n",
      "screams in the airport and as i looked i\n",
      "1/1 [==============================] - 0s 36ms/step\n",
      "screams in the airport and as i looked i i\n",
      "1/1 [==============================] - 0s 4ms/step\n",
      "screams in the airport and as i looked i i i\n",
      "1/1 [==============================] - 0s 16ms/step\n",
      "screams in the airport and as i looked i i i i\n",
      "1/1 [==============================] - 0s 18ms/step\n",
      "screams in the airport and as i looked i i i i i\n",
      "1/1 [==============================] - 0s 16ms/step\n",
      "screams in the airport and as i looked i i i i i i\n",
      "1/1 [==============================] - 0s 43ms/step\n",
      "screams in the airport and as i looked i i i i i i i\n",
      "1/1 [==============================] - 0s 28ms/step\n",
      "screams in the airport and as i looked i i i i i i i i\n",
      "1/1 [==============================] - 0s 20ms/step\n",
      "screams in the airport and as i looked i i i i i i i i i\n",
      "1/1 [==============================] - 0s 16ms/step\n",
      "screams in the airport and as i looked i i i i i i i i i i\n"
     ]
    }
   ],
   "source": [
    "prediction(\"screams in the airport and as i looked\" , 10)"
   ]
  },
  {
   "cell_type": "code",
   "execution_count": null,
   "id": "751d2652",
   "metadata": {},
   "outputs": [],
   "source": []
  }
 ],
 "metadata": {
  "kernelspec": {
   "display_name": "Python 3 (ipykernel)",
   "language": "python",
   "name": "python3"
  },
  "language_info": {
   "codemirror_mode": {
    "name": "ipython",
    "version": 3
   },
   "file_extension": ".py",
   "mimetype": "text/x-python",
   "name": "python",
   "nbconvert_exporter": "python",
   "pygments_lexer": "ipython3",
   "version": "3.11.4"
  }
 },
 "nbformat": 4,
 "nbformat_minor": 5
}
