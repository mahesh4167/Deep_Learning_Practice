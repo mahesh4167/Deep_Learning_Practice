{
 "cells": [
  {
   "cell_type": "markdown",
   "id": "7713af1e",
   "metadata": {
    "id": "7713af1e"
   },
   "source": [
    "# Libraries"
   ]
  },
  {
   "cell_type": "code",
   "execution_count": 1,
   "id": "a0d2d008",
   "metadata": {
    "id": "a0d2d008"
   },
   "outputs": [],
   "source": [
    "import numpy as np\n",
    "import pandas as pd\n",
    "import matplotlib.pyplot as plt\n",
    "import tensorflow as tf\n",
    "from sklearn.preprocessing import MinMaxScaler\n",
    "from sklearn.preprocessing import LabelEncoder\n",
    "from sklearn.model_selection import train_test_split\n",
    "from tensorflow.python.keras.models import Sequential\n",
    "from tensorflow.python.keras.layers import Dense\n",
    "from sklearn.metrics import mean_squared_error , r2_score\n",
    "import google\n",
    "from sklearn.ensemble import RandomForestRegressor\n"
   ]
  },
  {
   "cell_type": "markdown",
   "id": "cd4fe23b",
   "metadata": {},
   "source": [
    "# Set up GPU memory growth (must be done before creating the model or a TensorFlow session)\n"
   ]
  },
  {
   "cell_type": "code",
   "execution_count": 2,
   "id": "d0c6ab60",
   "metadata": {},
   "outputs": [],
   "source": [
    "gpus = tf.config.list_physical_devices('GPU')\n",
    "if gpus:\n",
    "    try:\n",
    "        for gpu in gpus:\n",
    "            tf.config.experimental.set_memory_growth(gpu, True)\n",
    "    except RuntimeError as e:\n",
    "        print(e)"
   ]
  },
  {
   "cell_type": "code",
   "execution_count": 3,
   "id": "3e25d778",
   "metadata": {
    "id": "3e25d778"
   },
   "outputs": [],
   "source": [
    "# tensor is multi-dimensional array"
   ]
  },
  {
   "cell_type": "code",
   "execution_count": 4,
   "id": "08ec897e",
   "metadata": {
    "colab": {
     "base_uri": "https://localhost:8080/",
     "height": 381
    },
    "id": "08ec897e",
    "outputId": "0e1e6b7c-03b1-401b-a989-70678e909db8"
   },
   "outputs": [
    {
     "data": {
      "text/html": [
       "<div>\n",
       "<style scoped>\n",
       "    .dataframe tbody tr th:only-of-type {\n",
       "        vertical-align: middle;\n",
       "    }\n",
       "\n",
       "    .dataframe tbody tr th {\n",
       "        vertical-align: top;\n",
       "    }\n",
       "\n",
       "    .dataframe thead th {\n",
       "        text-align: right;\n",
       "    }\n",
       "</style>\n",
       "<table border=\"1\" class=\"dataframe\">\n",
       "  <thead>\n",
       "    <tr style=\"text-align: right;\">\n",
       "      <th></th>\n",
       "      <th>Unnamed: 0</th>\n",
       "      <th>Area</th>\n",
       "      <th>Item</th>\n",
       "      <th>Year</th>\n",
       "      <th>hg/ha_yield</th>\n",
       "      <th>average_rain_fall_mm_per_year</th>\n",
       "      <th>pesticides_tonnes</th>\n",
       "      <th>avg_temp</th>\n",
       "    </tr>\n",
       "  </thead>\n",
       "  <tbody>\n",
       "    <tr>\n",
       "      <th>0</th>\n",
       "      <td>0</td>\n",
       "      <td>Albania</td>\n",
       "      <td>Maize</td>\n",
       "      <td>1990</td>\n",
       "      <td>36613</td>\n",
       "      <td>1485.0</td>\n",
       "      <td>121.0</td>\n",
       "      <td>16.37</td>\n",
       "    </tr>\n",
       "    <tr>\n",
       "      <th>1</th>\n",
       "      <td>1</td>\n",
       "      <td>Albania</td>\n",
       "      <td>Potatoes</td>\n",
       "      <td>1990</td>\n",
       "      <td>66667</td>\n",
       "      <td>1485.0</td>\n",
       "      <td>121.0</td>\n",
       "      <td>16.37</td>\n",
       "    </tr>\n",
       "    <tr>\n",
       "      <th>2</th>\n",
       "      <td>2</td>\n",
       "      <td>Albania</td>\n",
       "      <td>Rice, paddy</td>\n",
       "      <td>1990</td>\n",
       "      <td>23333</td>\n",
       "      <td>1485.0</td>\n",
       "      <td>121.0</td>\n",
       "      <td>16.37</td>\n",
       "    </tr>\n",
       "    <tr>\n",
       "      <th>3</th>\n",
       "      <td>3</td>\n",
       "      <td>Albania</td>\n",
       "      <td>Sorghum</td>\n",
       "      <td>1990</td>\n",
       "      <td>12500</td>\n",
       "      <td>1485.0</td>\n",
       "      <td>121.0</td>\n",
       "      <td>16.37</td>\n",
       "    </tr>\n",
       "    <tr>\n",
       "      <th>4</th>\n",
       "      <td>4</td>\n",
       "      <td>Albania</td>\n",
       "      <td>Soybeans</td>\n",
       "      <td>1990</td>\n",
       "      <td>7000</td>\n",
       "      <td>1485.0</td>\n",
       "      <td>121.0</td>\n",
       "      <td>16.37</td>\n",
       "    </tr>\n",
       "    <tr>\n",
       "      <th>5</th>\n",
       "      <td>5</td>\n",
       "      <td>Albania</td>\n",
       "      <td>Wheat</td>\n",
       "      <td>1990</td>\n",
       "      <td>30197</td>\n",
       "      <td>1485.0</td>\n",
       "      <td>121.0</td>\n",
       "      <td>16.37</td>\n",
       "    </tr>\n",
       "    <tr>\n",
       "      <th>6</th>\n",
       "      <td>6</td>\n",
       "      <td>Albania</td>\n",
       "      <td>Maize</td>\n",
       "      <td>1991</td>\n",
       "      <td>29068</td>\n",
       "      <td>1485.0</td>\n",
       "      <td>121.0</td>\n",
       "      <td>15.36</td>\n",
       "    </tr>\n",
       "    <tr>\n",
       "      <th>7</th>\n",
       "      <td>7</td>\n",
       "      <td>Albania</td>\n",
       "      <td>Potatoes</td>\n",
       "      <td>1991</td>\n",
       "      <td>77818</td>\n",
       "      <td>1485.0</td>\n",
       "      <td>121.0</td>\n",
       "      <td>15.36</td>\n",
       "    </tr>\n",
       "    <tr>\n",
       "      <th>8</th>\n",
       "      <td>8</td>\n",
       "      <td>Albania</td>\n",
       "      <td>Rice, paddy</td>\n",
       "      <td>1991</td>\n",
       "      <td>28538</td>\n",
       "      <td>1485.0</td>\n",
       "      <td>121.0</td>\n",
       "      <td>15.36</td>\n",
       "    </tr>\n",
       "    <tr>\n",
       "      <th>9</th>\n",
       "      <td>9</td>\n",
       "      <td>Albania</td>\n",
       "      <td>Sorghum</td>\n",
       "      <td>1991</td>\n",
       "      <td>6667</td>\n",
       "      <td>1485.0</td>\n",
       "      <td>121.0</td>\n",
       "      <td>15.36</td>\n",
       "    </tr>\n",
       "  </tbody>\n",
       "</table>\n",
       "</div>"
      ],
      "text/plain": [
       "   Unnamed: 0     Area         Item  Year  hg/ha_yield  \\\n",
       "0           0  Albania        Maize  1990        36613   \n",
       "1           1  Albania     Potatoes  1990        66667   \n",
       "2           2  Albania  Rice, paddy  1990        23333   \n",
       "3           3  Albania      Sorghum  1990        12500   \n",
       "4           4  Albania     Soybeans  1990         7000   \n",
       "5           5  Albania        Wheat  1990        30197   \n",
       "6           6  Albania        Maize  1991        29068   \n",
       "7           7  Albania     Potatoes  1991        77818   \n",
       "8           8  Albania  Rice, paddy  1991        28538   \n",
       "9           9  Albania      Sorghum  1991         6667   \n",
       "\n",
       "   average_rain_fall_mm_per_year  pesticides_tonnes  avg_temp  \n",
       "0                         1485.0              121.0     16.37  \n",
       "1                         1485.0              121.0     16.37  \n",
       "2                         1485.0              121.0     16.37  \n",
       "3                         1485.0              121.0     16.37  \n",
       "4                         1485.0              121.0     16.37  \n",
       "5                         1485.0              121.0     16.37  \n",
       "6                         1485.0              121.0     15.36  \n",
       "7                         1485.0              121.0     15.36  \n",
       "8                         1485.0              121.0     15.36  \n",
       "9                         1485.0              121.0     15.36  "
      ]
     },
     "execution_count": 4,
     "metadata": {},
     "output_type": "execute_result"
    }
   ],
   "source": [
    "# from google.colab import drive\n",
    "# drive.mount('/content/drive')\n",
    "df = pd.read_csv(r\"yield_df.csv\")\n",
    "# df = pd.read_csv(r'/content/drive/MyDrive/DATASETS/yield_df.csv')\n",
    "df.head(10)"
   ]
  },
  {
   "cell_type": "code",
   "execution_count": 5,
   "id": "562abfb9",
   "metadata": {
    "colab": {
     "base_uri": "https://localhost:8080/"
    },
    "id": "562abfb9",
    "outputId": "bd122a61-32d3-4a05-c438-d5825aa64b62"
   },
   "outputs": [
    {
     "name": "stdout",
     "output_type": "stream",
     "text": [
      "<class 'pandas.core.frame.DataFrame'>\n",
      "RangeIndex: 28242 entries, 0 to 28241\n",
      "Data columns (total 8 columns):\n",
      " #   Column                         Non-Null Count  Dtype  \n",
      "---  ------                         --------------  -----  \n",
      " 0   Unnamed: 0                     28242 non-null  int64  \n",
      " 1   Area                           28242 non-null  object \n",
      " 2   Item                           28242 non-null  object \n",
      " 3   Year                           28242 non-null  int64  \n",
      " 4   hg/ha_yield                    28242 non-null  int64  \n",
      " 5   average_rain_fall_mm_per_year  28242 non-null  float64\n",
      " 6   pesticides_tonnes              28242 non-null  float64\n",
      " 7   avg_temp                       28242 non-null  float64\n",
      "dtypes: float64(3), int64(3), object(2)\n",
      "memory usage: 1.7+ MB\n"
     ]
    }
   ],
   "source": [
    "df.info()"
   ]
  },
  {
   "cell_type": "code",
   "execution_count": 6,
   "id": "85677e20",
   "metadata": {
    "colab": {
     "base_uri": "https://localhost:8080/"
    },
    "id": "85677e20",
    "outputId": "1d9d2655-432b-4af6-e878-8fb5d2cd886f"
   },
   "outputs": [
    {
     "data": {
      "text/plain": [
       "Unnamed: 0                       0\n",
       "Area                             0\n",
       "Item                             0\n",
       "Year                             0\n",
       "hg/ha_yield                      0\n",
       "average_rain_fall_mm_per_year    0\n",
       "pesticides_tonnes                0\n",
       "avg_temp                         0\n",
       "dtype: int64"
      ]
     },
     "execution_count": 6,
     "metadata": {},
     "output_type": "execute_result"
    }
   ],
   "source": [
    "df.isnull().sum()"
   ]
  },
  {
   "cell_type": "code",
   "execution_count": 7,
   "id": "1560b6da",
   "metadata": {
    "id": "1560b6da"
   },
   "outputs": [],
   "source": [
    "df.drop('Unnamed: 0', axis=1,inplace=True)"
   ]
  },
  {
   "cell_type": "code",
   "execution_count": 8,
   "id": "04ed6bf0",
   "metadata": {
    "id": "04ed6bf0"
   },
   "outputs": [],
   "source": [
    "df[['hg/ha_yield']] = df[['hg/ha_yield']].astype(float)"
   ]
  },
  {
   "cell_type": "code",
   "execution_count": 9,
   "id": "7f0e5b59",
   "metadata": {
    "colab": {
     "base_uri": "https://localhost:8080/"
    },
    "id": "7f0e5b59",
    "outputId": "91200c60-858f-46b3-e958-f1bb849c01e3"
   },
   "outputs": [
    {
     "name": "stdout",
     "output_type": "stream",
     "text": [
      "<class 'pandas.core.frame.DataFrame'>\n",
      "RangeIndex: 28242 entries, 0 to 28241\n",
      "Data columns (total 7 columns):\n",
      " #   Column                         Non-Null Count  Dtype  \n",
      "---  ------                         --------------  -----  \n",
      " 0   Area                           28242 non-null  object \n",
      " 1   Item                           28242 non-null  object \n",
      " 2   Year                           28242 non-null  int64  \n",
      " 3   hg/ha_yield                    28242 non-null  float64\n",
      " 4   average_rain_fall_mm_per_year  28242 non-null  float64\n",
      " 5   pesticides_tonnes              28242 non-null  float64\n",
      " 6   avg_temp                       28242 non-null  float64\n",
      "dtypes: float64(4), int64(1), object(2)\n",
      "memory usage: 1.5+ MB\n"
     ]
    }
   ],
   "source": [
    "df.info()"
   ]
  },
  {
   "cell_type": "code",
   "execution_count": 10,
   "id": "413fa3d4",
   "metadata": {
    "id": "413fa3d4"
   },
   "outputs": [],
   "source": [
    "encoder = LabelEncoder()\n",
    "df[\"Area\"] = encoder.fit_transform(df[\"Area\"])\n",
    "df[\"Item\"] = encoder.fit_transform(df[\"Item\"])"
   ]
  },
  {
   "cell_type": "code",
   "execution_count": 11,
   "id": "ce960f37",
   "metadata": {
    "id": "ce960f37"
   },
   "outputs": [],
   "source": [
    "for i in df.columns:\n",
    "    df[i] = df[i].astype(float)"
   ]
  },
  {
   "cell_type": "code",
   "execution_count": 12,
   "id": "24fdc260",
   "metadata": {
    "id": "24fdc260"
   },
   "outputs": [],
   "source": [
    "scalar = MinMaxScaler()\n",
    "df[['average_rain_fall_mm_per_year','pesticides_tonnes','avg_temp','hg/ha_yield']] = scalar.fit_transform(df[['average_rain_fall_mm_per_year','pesticides_tonnes','avg_temp','hg/ha_yield']])"
   ]
  },
  {
   "cell_type": "code",
   "execution_count": 13,
   "id": "5c7a0946",
   "metadata": {
    "id": "5c7a0946"
   },
   "outputs": [],
   "source": [
    "X = df.drop('hg/ha_yield',axis = 1)\n",
    "y = df['hg/ha_yield']"
   ]
  },
  {
   "cell_type": "code",
   "execution_count": 14,
   "id": "8f6d5913",
   "metadata": {
    "colab": {
     "base_uri": "https://localhost:8080/"
    },
    "id": "8f6d5913",
    "outputId": "0e2cf5d8-1bfd-4003-b699-bf6e1b137e18"
   },
   "outputs": [
    {
     "name": "stdout",
     "output_type": "stream",
     "text": [
      "<class 'pandas.core.frame.DataFrame'>\n",
      "RangeIndex: 28242 entries, 0 to 28241\n",
      "Data columns (total 6 columns):\n",
      " #   Column                         Non-Null Count  Dtype  \n",
      "---  ------                         --------------  -----  \n",
      " 0   Area                           28242 non-null  float64\n",
      " 1   Item                           28242 non-null  float64\n",
      " 2   Year                           28242 non-null  float64\n",
      " 3   average_rain_fall_mm_per_year  28242 non-null  float64\n",
      " 4   pesticides_tonnes              28242 non-null  float64\n",
      " 5   avg_temp                       28242 non-null  float64\n",
      "dtypes: float64(6)\n",
      "memory usage: 1.3 MB\n",
      "<class 'pandas.core.series.Series'>\n",
      "RangeIndex: 28242 entries, 0 to 28241\n",
      "Series name: hg/ha_yield\n",
      "Non-Null Count  Dtype  \n",
      "--------------  -----  \n",
      "28242 non-null  float64\n",
      "dtypes: float64(1)\n",
      "memory usage: 220.8 KB\n",
      "None None\n"
     ]
    }
   ],
   "source": [
    "print(X.info(),y.info())"
   ]
  },
  {
   "cell_type": "code",
   "execution_count": 15,
   "id": "b750b635",
   "metadata": {
    "colab": {
     "base_uri": "https://localhost:8080/"
    },
    "id": "b750b635",
    "outputId": "fdf16485-ac0f-47d0-935e-82462e943cde"
   },
   "outputs": [
    {
     "name": "stdout",
     "output_type": "stream",
     "text": [
      "<class 'pandas.core.frame.DataFrame'>\n",
      "RangeIndex: 28242 entries, 0 to 28241\n",
      "Data columns (total 7 columns):\n",
      " #   Column                         Non-Null Count  Dtype  \n",
      "---  ------                         --------------  -----  \n",
      " 0   Area                           28242 non-null  float64\n",
      " 1   Item                           28242 non-null  float64\n",
      " 2   Year                           28242 non-null  float64\n",
      " 3   hg/ha_yield                    28242 non-null  float64\n",
      " 4   average_rain_fall_mm_per_year  28242 non-null  float64\n",
      " 5   pesticides_tonnes              28242 non-null  float64\n",
      " 6   avg_temp                       28242 non-null  float64\n",
      "dtypes: float64(7)\n",
      "memory usage: 1.5 MB\n"
     ]
    }
   ],
   "source": [
    "df.info()"
   ]
  },
  {
   "cell_type": "code",
   "execution_count": 16,
   "id": "848638b5",
   "metadata": {
    "id": "848638b5"
   },
   "outputs": [],
   "source": [
    "X_train,X_test,y_train,y_test = train_test_split(X,y,random_state=20,test_size=0.3)"
   ]
  },
  {
   "cell_type": "code",
   "execution_count": 17,
   "id": "010dfead",
   "metadata": {
    "id": "010dfead"
   },
   "outputs": [],
   "source": [
    "X_train = tf.convert_to_tensor(X_train)\n",
    "X_test = tf.convert_to_tensor(X_test)\n",
    "y_train =  tf.convert_to_tensor(y_train)\n",
    "y_test =  tf.convert_to_tensor(y_test)"
   ]
  },
  {
   "cell_type": "code",
   "execution_count": 18,
   "id": "24bd1ba2",
   "metadata": {
    "id": "24bd1ba2"
   },
   "outputs": [],
   "source": [
    "y_train = np.reshape(y_train,(-1,1))\n",
    "y_test = np.reshape(y_test,(-1,1))"
   ]
  },
  {
   "cell_type": "code",
   "execution_count": 19,
   "id": "a0dea855",
   "metadata": {
    "colab": {
     "base_uri": "https://localhost:8080/"
    },
    "id": "a0dea855",
    "outputId": "f41f2578-3a4a-4532-e6a3-e420da7d71c4"
   },
   "outputs": [
    {
     "name": "stdout",
     "output_type": "stream",
     "text": [
      "Model: \"sequential\"\n",
      "_________________________________________________________________\n",
      "Layer (type)                 Output Shape              Param #   \n",
      "=================================================================\n",
      "dense (Dense)                (None, 12)                84        \n",
      "_________________________________________________________________\n",
      "dense_1 (Dense)              (None, 1)                 13        \n",
      "=================================================================\n",
      "Total params: 97\n",
      "Trainable params: 97\n",
      "Non-trainable params: 0\n",
      "_________________________________________________________________\n"
     ]
    }
   ],
   "source": [
    "model = Sequential()\n",
    "model.add(Dense(12 , input_dim = 6, activation = 'relu'))\n",
    "model.add(Dense(1 , activation='linear'))\n",
    "model.summary()"
   ]
  },
  {
   "cell_type": "code",
   "execution_count": 20,
   "id": "b4af72e2",
   "metadata": {
    "id": "b4af72e2"
   },
   "outputs": [],
   "source": [
    "model.compile(loss='mse', metrics = ['mse','mae'])"
   ]
  },
  {
   "cell_type": "code",
   "execution_count": 21,
   "id": "07a87f05",
   "metadata": {
    "colab": {
     "base_uri": "https://localhost:8080/"
    },
    "id": "07a87f05",
    "outputId": "9c5e7c06-f43a-4dc9-caed-6fa33425dcf9"
   },
   "outputs": [
    {
     "name": "stdout",
     "output_type": "stream",
     "text": [
      "Epoch 1/20\n",
      "32/32 [==============================] - 1s 10ms/step - loss: 130313.8672 - mse: 130313.8672 - mae: 355.9079 - val_loss: 67982.8047 - val_mse: 67982.8047 - val_mae: 260.5590\n",
      "Epoch 2/20\n",
      "32/32 [==============================] - 0s 4ms/step - loss: 37731.0625 - mse: 37731.0625 - mae: 189.6614 - val_loss: 13903.3926 - val_mse: 13903.3926 - val_mae: 117.6153\n",
      "Epoch 3/20\n",
      "32/32 [==============================] - 0s 4ms/step - loss: 5519.0024 - mse: 5519.0024 - mae: 69.1950 - val_loss: 831.9780 - val_mse: 831.9780 - val_mae: 27.6637\n",
      "Epoch 4/20\n",
      "32/32 [==============================] - 0s 4ms/step - loss: 199.7959 - mse: 199.7959 - mae: 10.6368 - val_loss: 33.3585 - val_mse: 33.3585 - val_mae: 4.8112\n",
      "Epoch 5/20\n",
      "32/32 [==============================] - 0s 3ms/step - loss: 17.7965 - mse: 17.7965 - mae: 3.2994 - val_loss: 7.9626 - val_mse: 7.9626 - val_mae: 2.3482\n",
      "Epoch 6/20\n",
      "32/32 [==============================] - 0s 3ms/step - loss: 10.7996 - mse: 10.7996 - mae: 2.6919 - val_loss: 9.7953 - val_mse: 9.7953 - val_mae: 2.6629\n",
      "Epoch 7/20\n",
      "32/32 [==============================] - 0s 4ms/step - loss: 8.6888 - mse: 8.6888 - mae: 2.4602 - val_loss: 9.0165 - val_mse: 9.0165 - val_mae: 2.6031\n",
      "Epoch 8/20\n",
      "32/32 [==============================] - 0s 4ms/step - loss: 7.5185 - mse: 7.5185 - mae: 2.3564 - val_loss: 6.1642 - val_mse: 6.1642 - val_mae: 2.1648\n",
      "Epoch 9/20\n",
      "32/32 [==============================] - 0s 4ms/step - loss: 6.6537 - mse: 6.6537 - mae: 2.2821 - val_loss: 7.1787 - val_mse: 7.1787 - val_mae: 2.4278\n",
      "Epoch 10/20\n",
      "32/32 [==============================] - 0s 4ms/step - loss: 6.0134 - mse: 6.0134 - mae: 2.2316 - val_loss: 6.1339 - val_mse: 6.1339 - val_mae: 2.2745\n",
      "Epoch 11/20\n",
      "32/32 [==============================] - 0s 3ms/step - loss: 5.7096 - mse: 5.7096 - mae: 2.2309 - val_loss: 6.3274 - val_mse: 6.3274 - val_mae: 2.3480\n",
      "Epoch 12/20\n",
      "32/32 [==============================] - 0s 3ms/step - loss: 5.4528 - mse: 5.4528 - mae: 2.2054 - val_loss: 6.0081 - val_mse: 6.0081 - val_mae: 2.3056\n",
      "Epoch 13/20\n",
      "32/32 [==============================] - 0s 3ms/step - loss: 5.1974 - mse: 5.1974 - mae: 2.1724 - val_loss: 5.5967 - val_mse: 5.5967 - val_mae: 2.2247\n",
      "Epoch 14/20\n",
      "32/32 [==============================] - 0s 4ms/step - loss: 5.2275 - mse: 5.2275 - mae: 2.1859 - val_loss: 6.3337 - val_mse: 6.3337 - val_mae: 2.3860\n",
      "Epoch 15/20\n",
      "32/32 [==============================] - 0s 4ms/step - loss: 5.0344 - mse: 5.0344 - mae: 2.1483 - val_loss: 4.4564 - val_mse: 4.4564 - val_mae: 1.9841\n",
      "Epoch 16/20\n",
      "32/32 [==============================] - 0s 4ms/step - loss: 5.0347 - mse: 5.0347 - mae: 2.1564 - val_loss: 6.1257 - val_mse: 6.1257 - val_mae: 2.3514\n",
      "Epoch 17/20\n",
      "32/32 [==============================] - 0s 4ms/step - loss: 4.9503 - mse: 4.9503 - mae: 2.1417 - val_loss: 5.3360 - val_mse: 5.3360 - val_mae: 2.1945\n",
      "Epoch 18/20\n",
      "32/32 [==============================] - 0s 4ms/step - loss: 4.8773 - mse: 4.8773 - mae: 2.1284 - val_loss: 5.2643 - val_mse: 5.2643 - val_mae: 2.1829\n",
      "Epoch 19/20\n",
      "32/32 [==============================] - 0s 4ms/step - loss: 4.9136 - mse: 4.9136 - mae: 2.1395 - val_loss: 4.6125 - val_mse: 4.6125 - val_mae: 2.0365\n",
      "Epoch 20/20\n",
      "32/32 [==============================] - 0s 4ms/step - loss: 4.6904 - mse: 4.6904 - mae: 2.0830 - val_loss: 4.7209 - val_mse: 4.7209 - val_mae: 2.0644\n"
     ]
    }
   ],
   "source": [
    "history = model.fit(X_train,y_train,epochs = 20 ,batch_size = 500,validation_split = 0.2)"
   ]
  },
  {
   "cell_type": "markdown",
   "id": "PlHvSSNyCew3",
   "metadata": {
    "id": "PlHvSSNyCew3"
   },
   "source": [
    "# evaluating model performance"
   ]
  },
  {
   "cell_type": "code",
   "execution_count": 22,
   "id": "_YSHvSTuCecf",
   "metadata": {
    "colab": {
     "base_uri": "https://localhost:8080/"
    },
    "id": "_YSHvSTuCecf",
    "outputId": "657195ce-683b-4bcc-888b-a44443bbc685"
   },
   "outputs": [
    {
     "name": "stdout",
     "output_type": "stream",
     "text": [
      "265/265 [==============================] - 1s 2ms/step - loss: 4.8135 - mse: 4.8135 - mae: 2.0935\n"
     ]
    },
    {
     "data": {
      "text/plain": [
       "[4.813543796539307, 4.813543796539307, 2.0934793949127197]"
      ]
     },
     "execution_count": 22,
     "metadata": {},
     "output_type": "execute_result"
    }
   ],
   "source": [
    "model.evaluate(X_test,y_test)"
   ]
  },
  {
   "cell_type": "markdown",
   "id": "jRj2fjGwDFaw",
   "metadata": {
    "id": "jRj2fjGwDFaw"
   },
   "source": [
    "# Calculating RMSE"
   ]
  },
  {
   "cell_type": "code",
   "execution_count": 23,
   "id": "129f9f4c",
   "metadata": {
    "colab": {
     "base_uri": "https://localhost:8080/"
    },
    "id": "129f9f4c",
    "outputId": "6918f9b2-35a9-4ea8-fd80-a6164197b951"
   },
   "outputs": [
    {
     "name": "stdout",
     "output_type": "stream",
     "text": [
      "RMSE for train data:  2.17326452868921\n",
      "RMSE for test data:  2.1939792781793375\n"
     ]
    }
   ],
   "source": [
    "pred_train = model.predict(X_train)\n",
    "print('RMSE for train data: ',np.sqrt(mean_squared_error(y_train,pred_train)))\n",
    "pred_test = model.predict(X_test)\n",
    "print('RMSE for test data: ',np.sqrt(mean_squared_error(y_test,pred_test)))"
   ]
  },
  {
   "cell_type": "markdown",
   "id": "hPHPJPrcDu4X",
   "metadata": {
    "id": "hPHPJPrcDu4X"
   },
   "source": [
    "# model is not overfitted"
   ]
  },
  {
   "cell_type": "code",
   "execution_count": 24,
   "id": "2b27bf0c",
   "metadata": {
    "colab": {
     "base_uri": "https://localhost:8080/",
     "height": 490
    },
    "id": "2b27bf0c",
    "outputId": "1af86eab-9485-486b-841f-8f69343eba51"
   },
   "outputs": [
    {
     "name": "stdout",
     "output_type": "stream",
     "text": [
      "dict_keys(['loss', 'mse', 'mae', 'val_loss', 'val_mse', 'val_mae'])\n"
     ]
    },
    {
     "data": {
      "image/png": "[encoded data removed]",
      "text/plain": [
       "<Figure size 640x480 with 1 Axes>"
      ]
     },
     "metadata": {},
     "output_type": "display_data"
    }
   ],
   "source": [
    "print(history.history.keys())\n",
    "# \"Loss\"\n",
    "plt.plot(history.history['loss'])\n",
    "plt.plot(history.history['val_loss'])\n",
    "plt.title('model loss')\n",
    "plt.ylabel('loss')\n",
    "plt.xlabel('epoch')\n",
    "plt.legend(['train', 'validation'], loc='upper right')\n",
    "plt.show()"
   ]
  },
  {
   "cell_type": "markdown",
   "id": "3VQ2UArREQQf",
   "metadata": {
    "id": "3VQ2UArREQQf"
   },
   "source": [
    "# increasing the number of hidden layer"
   ]
  },
  {
   "cell_type": "code",
   "execution_count": 25,
   "id": "pHTnUipPD9JA",
   "metadata": {
    "colab": {
     "base_uri": "https://localhost:8080/",
     "height": 1000
    },
    "id": "pHTnUipPD9JA",
    "outputId": "f3faf35b-253f-48f1-cab6-32e549a04dc5"
   },
   "outputs": [
    {
     "name": "stdout",
     "output_type": "stream",
     "text": [
      "Model: \"sequential_1\"\n",
      "_________________________________________________________________\n",
      "Layer (type)                 Output Shape              Param #   \n",
      "=================================================================\n",
      "dense_2 (Dense)              (None, 12)                84        \n",
      "_________________________________________________________________\n",
      "dense_3 (Dense)              (None, 12)                156       \n",
      "_________________________________________________________________\n",
      "dense_4 (Dense)              (None, 1)                 13        \n",
      "=================================================================\n",
      "Total params: 253\n",
      "Trainable params: 253\n",
      "Non-trainable params: 0\n",
      "_________________________________________________________________\n",
      "None\n",
      "Epoch 1/20\n",
      "32/32 [==============================] - 1s 10ms/step - loss: 32709.0391 - mse: 32709.0391 - mae: 148.1068 - val_loss: 340.6402 - val_mse: 340.6402 - val_mae: 17.4457\n",
      "Epoch 2/20\n",
      "32/32 [==============================] - 0s 3ms/step - loss: 64.0682 - mse: 64.0682 - mae: 6.2012 - val_loss: 34.5125 - val_mse: 34.5125 - val_mae: 4.9776\n",
      "Epoch 3/20\n",
      "32/32 [==============================] - 0s 3ms/step - loss: 50.4129 - mse: 50.4129 - mae: 5.6922 - val_loss: 47.2204 - val_mse: 47.2204 - val_mae: 5.8588\n",
      "Epoch 4/20\n",
      "32/32 [==============================] - 0s 4ms/step - loss: 68.4899 - mse: 68.4899 - mae: 6.8166 - val_loss: 50.1327 - val_mse: 50.1327 - val_mae: 6.0101\n",
      "Epoch 5/20\n",
      "32/32 [==============================] - 0s 3ms/step - loss: 67.8025 - mse: 67.8025 - mae: 6.8185 - val_loss: 79.9390 - val_mse: 79.9390 - val_mae: 7.6386\n",
      "Epoch 6/20\n",
      "32/32 [==============================] - 0s 4ms/step - loss: 67.4454 - mse: 67.4454 - mae: 6.8381 - val_loss: 69.9022 - val_mse: 69.9022 - val_mae: 7.1264\n",
      "Epoch 7/20\n",
      "32/32 [==============================] - 0s 4ms/step - loss: 61.5368 - mse: 61.5368 - mae: 6.5348 - val_loss: 62.5973 - val_mse: 62.5973 - val_mae: 6.7376\n",
      "Epoch 8/20\n",
      "32/32 [==============================] - 0s 5ms/step - loss: 60.8076 - mse: 60.8076 - mae: 6.5183 - val_loss: 67.1475 - val_mse: 67.1475 - val_mae: 7.0412\n",
      "Epoch 9/20\n",
      "32/32 [==============================] - 0s 4ms/step - loss: 60.8620 - mse: 60.8620 - mae: 6.5839 - val_loss: 47.6327 - val_mse: 47.6327 - val_mae: 5.8631\n",
      "Epoch 10/20\n",
      "32/32 [==============================] - 0s 3ms/step - loss: 54.2999 - mse: 54.2999 - mae: 6.1980 - val_loss: 71.4345 - val_mse: 71.4345 - val_mae: 7.3995\n",
      "Epoch 11/20\n",
      "32/32 [==============================] - 0s 4ms/step - loss: 57.3558 - mse: 57.3558 - mae: 6.4774 - val_loss: 51.1778 - val_mse: 51.1778 - val_mae: 6.1411\n",
      "Epoch 12/20\n",
      "32/32 [==============================] - 0s 4ms/step - loss: 52.3994 - mse: 52.3994 - mae: 6.1844 - val_loss: 64.3641 - val_mse: 64.3641 - val_mae: 7.0767\n",
      "Epoch 13/20\n",
      "32/32 [==============================] - 0s 5ms/step - loss: 52.7984 - mse: 52.7984 - mae: 6.2813 - val_loss: 54.2434 - val_mse: 54.2434 - val_mae: 6.4380\n",
      "Epoch 14/20\n",
      "32/32 [==============================] - 0s 4ms/step - loss: 50.4293 - mse: 50.4293 - mae: 6.1707 - val_loss: 65.3455 - val_mse: 65.3455 - val_mae: 7.2902\n",
      "Epoch 15/20\n",
      "32/32 [==============================] - 0s 4ms/step - loss: 48.9412 - mse: 48.9412 - mae: 6.1164 - val_loss: 53.7533 - val_mse: 53.7533 - val_mae: 6.5288\n",
      "Epoch 16/20\n",
      "32/32 [==============================] - 0s 4ms/step - loss: 49.7885 - mse: 49.7885 - mae: 6.2336 - val_loss: 43.1973 - val_mse: 43.1973 - val_mae: 5.7683\n",
      "Epoch 17/20\n",
      "32/32 [==============================] - 0s 5ms/step - loss: 45.5463 - mse: 45.5463 - mae: 5.9662 - val_loss: 41.8691 - val_mse: 41.8691 - val_mae: 5.7146\n",
      "Epoch 18/20\n",
      "32/32 [==============================] - 0s 3ms/step - loss: 46.4440 - mse: 46.4440 - mae: 6.0729 - val_loss: 61.6740 - val_mse: 61.6740 - val_mae: 7.2864\n",
      "Epoch 19/20\n",
      "32/32 [==============================] - 0s 3ms/step - loss: 44.0905 - mse: 44.0905 - mae: 5.9709 - val_loss: 45.6811 - val_mse: 45.6811 - val_mae: 6.1495\n",
      "Epoch 20/20\n",
      "32/32 [==============================] - 0s 4ms/step - loss: 44.3862 - mse: 44.3862 - mae: 6.0566 - val_loss: 57.3682 - val_mse: 57.3682 - val_mae: 7.0850\n",
      "265/265 [==============================] - 1s 2ms/step - loss: 57.4599 - mse: 57.4599 - mae: 7.1147\n",
      "[57.45993423461914, 57.45993423461914, 7.11471700668335]\n",
      "RMSE for train data:  7.555705026339\n",
      "RMSE for test data:  7.580233069945279\n",
      "dict_keys(['loss', 'mse', 'mae', 'val_loss', 'val_mse', 'val_mae'])\n"
     ]
    },
    {
     "data": {
      "image/png": "[encoded data removed]",
      "text/plain": [
       "<Figure size 640x480 with 1 Axes>"
      ]
     },
     "metadata": {},
     "output_type": "display_data"
    }
   ],
   "source": [
    "model = Sequential()\n",
    "model.add(Dense(12 , input_dim = 6, activation = 'relu'))\n",
    "model.add(Dense(12 , activation = 'relu'))\n",
    "model.add(Dense(1 , activation='linear'))\n",
    "print(model.summary())\n",
    "model.compile(loss='mse', metrics = ['mse','mae'])\n",
    "history = model.fit(X_train,y_train,epochs = 20 ,batch_size = 500,validation_split = 0.2)\n",
    "print(model.evaluate(X_test,y_test))\n",
    "pred_train = model.predict(X_train)\n",
    "print('RMSE for train data: ',np.sqrt(mean_squared_error(y_train,pred_train)))\n",
    "pred_test = model.predict(X_test)\n",
    "print('RMSE for test data: ',np.sqrt(mean_squared_error(y_test,pred_test)))\n",
    "print(history.history.keys())\n",
    "# \"Loss\"\n",
    "plt.plot(history.history['loss'])\n",
    "plt.plot(history.history['val_loss'])\n",
    "plt.title('model loss')\n",
    "plt.ylabel('loss')\n",
    "plt.xlabel('epoch')\n",
    "plt.legend(['train', 'validation'], loc='upper right')\n",
    "plt.show()"
   ]
  },
  {
   "cell_type": "markdown",
   "id": "8Fzq4aYaGDjH",
   "metadata": {
    "id": "8Fzq4aYaGDjH"
   },
   "source": [
    "#adding layer and increasing epochs"
   ]
  },
  {
   "cell_type": "code",
   "execution_count": 26,
   "id": "nYXOUp-tGC4f",
   "metadata": {
    "colab": {
     "base_uri": "https://localhost:8080/"
    },
    "id": "nYXOUp-tGC4f",
    "outputId": "b38b3d0d-f9f4-491e-b603-2fcd8524dc13"
   },
   "outputs": [
    {
     "name": "stdout",
     "output_type": "stream",
     "text": [
      "Model: \"sequential_2\"\n",
      "_________________________________________________________________\n",
      "Layer (type)                 Output Shape              Param #   \n",
      "=================================================================\n",
      "dense_5 (Dense)              (None, 12)                84        \n",
      "_________________________________________________________________\n",
      "dense_6 (Dense)              (None, 12)                156       \n",
      "_________________________________________________________________\n",
      "dense_7 (Dense)              (None, 1)                 13        \n",
      "=================================================================\n",
      "Total params: 253\n",
      "Trainable params: 253\n",
      "Non-trainable params: 0\n",
      "_________________________________________________________________\n",
      "None\n",
      "Epoch 1/30\n",
      "159/159 [==============================] - 1s 3ms/step - loss: 28557.5801 - mse: 28557.5801 - mae: 68.1541 - val_loss: 207.3182 - val_mse: 207.3182 - val_mae: 14.3640\n",
      "Epoch 2/30\n",
      "159/159 [==============================] - 0s 2ms/step - loss: 225.4302 - mse: 225.4302 - mae: 14.9532 - val_loss: 221.1842 - val_mse: 221.1842 - val_mae: 14.8499\n",
      "Epoch 3/30\n",
      "159/159 [==============================] - 0s 3ms/step - loss: 211.2158 - mse: 211.2158 - mae: 14.4951 - val_loss: 226.5246 - val_mse: 226.5246 - val_mae: 15.0347\n",
      "Epoch 4/30\n",
      "159/159 [==============================] - 0s 2ms/step - loss: 198.4605 - mse: 198.4605 - mae: 14.0202 - val_loss: 177.8092 - val_mse: 177.8092 - val_mae: 13.3201\n",
      "Epoch 5/30\n",
      "159/159 [==============================] - 0s 2ms/step - loss: 185.1175 - mse: 185.1175 - mae: 13.5890 - val_loss: 182.2718 - val_mse: 182.2718 - val_mae: 13.4903\n",
      "Epoch 6/30\n",
      "159/159 [==============================] - 0s 2ms/step - loss: 177.1369 - mse: 177.1369 - mae: 13.2974 - val_loss: 166.0603 - val_mse: 166.0603 - val_mae: 12.8765\n",
      "Epoch 7/30\n",
      "159/159 [==============================] - 0s 3ms/step - loss: 167.5422 - mse: 167.5422 - mae: 12.9336 - val_loss: 171.2738 - val_mse: 171.2738 - val_mae: 13.0797\n",
      "Epoch 8/30\n",
      "159/159 [==============================] - 0s 3ms/step - loss: 161.4475 - mse: 161.4475 - mae: 12.6982 - val_loss: 154.5930 - val_mse: 154.5930 - val_mae: 12.4265\n",
      "Epoch 9/30\n",
      "159/159 [==============================] - 0s 3ms/step - loss: 159.0226 - mse: 159.0226 - mae: 12.6034 - val_loss: 162.0863 - val_mse: 162.0863 - val_mae: 12.7251\n",
      "Epoch 10/30\n",
      "159/159 [==============================] - 0s 3ms/step - loss: 157.1714 - mse: 157.1714 - mae: 12.5292 - val_loss: 168.0904 - val_mse: 168.0904 - val_mae: 12.9591\n",
      "Epoch 11/30\n",
      "159/159 [==============================] - 0s 3ms/step - loss: 155.1424 - mse: 155.1424 - mae: 12.4481 - val_loss: 148.9977 - val_mse: 148.9977 - val_mae: 12.2005\n",
      "Epoch 12/30\n",
      "159/159 [==============================] - 0s 3ms/step - loss: 153.3038 - mse: 153.3038 - mae: 12.3747 - val_loss: 148.0749 - val_mse: 148.0749 - val_mae: 12.1629\n",
      "Epoch 13/30\n",
      "159/159 [==============================] - 0s 2ms/step - loss: 151.2438 - mse: 151.2438 - mae: 12.2920 - val_loss: 147.1888 - val_mse: 147.1888 - val_mae: 12.1263\n",
      "Epoch 14/30\n",
      "159/159 [==============================] - 0s 3ms/step - loss: 149.3759 - mse: 149.3759 - mae: 12.2157 - val_loss: 145.3005 - val_mse: 145.3005 - val_mae: 12.0485\n",
      "Epoch 15/30\n",
      "159/159 [==============================] - 0s 3ms/step - loss: 147.6833 - mse: 147.6833 - mae: 12.1460 - val_loss: 147.4482 - val_mse: 147.4482 - val_mae: 12.1368\n",
      "Epoch 16/30\n",
      "159/159 [==============================] - 0s 3ms/step - loss: 145.6747 - mse: 145.6747 - mae: 12.0635 - val_loss: 145.1418 - val_mse: 145.1418 - val_mae: 12.0424\n",
      "Epoch 17/30\n",
      "159/159 [==============================] - 0s 3ms/step - loss: 143.9015 - mse: 143.9015 - mae: 11.9899 - val_loss: 132.9998 - val_mse: 132.9998 - val_mae: 11.5268\n",
      "Epoch 18/30\n",
      "159/159 [==============================] - 1s 4ms/step - loss: 142.0561 - mse: 142.0561 - mae: 11.9124 - val_loss: 143.4517 - val_mse: 143.4517 - val_mae: 11.9723\n",
      "Epoch 19/30\n",
      "159/159 [==============================] - 1s 5ms/step - loss: 140.2223 - mse: 140.2223 - mae: 11.8362 - val_loss: 136.3953 - val_mse: 136.3953 - val_mae: 11.6736\n",
      "Epoch 20/30\n",
      "159/159 [==============================] - 0s 3ms/step - loss: 138.1222 - mse: 138.1222 - mae: 11.7468 - val_loss: 136.1919 - val_mse: 136.1919 - val_mae: 11.6651\n",
      "Epoch 21/30\n",
      "159/159 [==============================] - 0s 3ms/step - loss: 136.4032 - mse: 136.4032 - mae: 11.6734 - val_loss: 133.2838 - val_mse: 133.2838 - val_mae: 11.5389\n",
      "Epoch 22/30\n",
      "159/159 [==============================] - 0s 3ms/step - loss: 134.6197 - mse: 134.6197 - mae: 11.5966 - val_loss: 131.5306 - val_mse: 131.5306 - val_mae: 11.4639\n",
      "Epoch 23/30\n",
      "159/159 [==============================] - 0s 3ms/step - loss: 132.6600 - mse: 132.6600 - mae: 11.5121 - val_loss: 134.2499 - val_mse: 134.2498 - val_mae: 11.5812\n",
      "Epoch 24/30\n",
      "159/159 [==============================] - 0s 3ms/step - loss: 130.8666 - mse: 130.8666 - mae: 11.4336 - val_loss: 127.6875 - val_mse: 127.6875 - val_mae: 11.2956\n",
      "Epoch 25/30\n",
      "159/159 [==============================] - 0s 3ms/step - loss: 128.9823 - mse: 128.9823 - mae: 11.3517 - val_loss: 132.4991 - val_mse: 132.4991 - val_mae: 11.5057\n",
      "Epoch 26/30\n",
      "159/159 [==============================] - 0s 3ms/step - loss: 127.4107 - mse: 127.4107 - mae: 11.2819 - val_loss: 116.7820 - val_mse: 116.7820 - val_mae: 10.8019\n",
      "Epoch 27/30\n",
      "159/159 [==============================] - 1s 3ms/step - loss: 125.4469 - mse: 125.4469 - mae: 11.1949 - val_loss: 127.9275 - val_mse: 127.9275 - val_mae: 11.3060\n",
      "Epoch 28/30\n",
      "159/159 [==============================] - 0s 3ms/step - loss: 123.5831 - mse: 123.5831 - mae: 11.1114 - val_loss: 128.9344 - val_mse: 128.9344 - val_mae: 11.3512\n",
      "Epoch 29/30\n",
      "159/159 [==============================] - 0s 3ms/step - loss: 122.0447 - mse: 122.0447 - mae: 11.0363 - val_loss: 120.0706 - val_mse: 120.0706 - val_mae: 10.9536\n",
      "Epoch 30/30\n",
      "159/159 [==============================] - 0s 3ms/step - loss: 120.0971 - mse: 120.0971 - mae: 10.9540 - val_loss: 125.0907 - val_mse: 125.0907 - val_mae: 11.1807\n"
     ]
    }
   ],
   "source": [
    "model = Sequential()\n",
    "model.add(Dense(12 , input_dim = 6, activation = 'relu'))\n",
    "model.add(Dense(12 , activation = 'relu'))\n",
    "model.add(Dense(1 , activation='linear'))\n",
    "print(model.summary())\n",
    "model.compile(loss='mse', metrics = ['mse','mae'])\n",
    "history = model.fit(X_train,y_train,epochs = 30 ,batch_size = 100,validation_split = 0.2)\n",
    "\n"
   ]
  },
  {
   "cell_type": "code",
   "execution_count": 27,
   "id": "PRC03DjxIeoH",
   "metadata": {
    "colab": {
     "base_uri": "https://localhost:8080/",
     "height": 636
    },
    "id": "PRC03DjxIeoH",
    "outputId": "03e355ef-f416-4b88-e1c1-51304f5f2a51"
   },
   "outputs": [
    {
     "name": "stdout",
     "output_type": "stream",
     "text": [
      "\n",
      "265/265 [==============================] - 1s 2ms/step - loss: 124.9073 - mse: 124.9073 - mae: 11.1726\n",
      "[124.90734100341797, 124.90734100341797, 11.172626495361328]\n",
      "\n",
      "RMSE for train data:  11.178633083831615\n",
      "\n",
      "RMSE for test data:  11.176196003685403\n",
      "\n",
      "dict_keys(['loss', 'mse', 'mae', 'val_loss', 'val_mse', 'val_mae'])\n"
     ]
    },
    {
     "data": {
      "image/png": "[encoded data removed]",
      "text/plain": [
       "<Figure size 640x480 with 1 Axes>"
      ]
     },
     "metadata": {},
     "output_type": "display_data"
    }
   ],
   "source": [
    "print()\n",
    "print(model.evaluate(X_test,y_test))\n",
    "pred_train = model.predict(X_train)\n",
    "print()\n",
    "print('RMSE for train data: ',np.sqrt(mean_squared_error(y_train,pred_train)))\n",
    "pred_test = model.predict(X_test)\n",
    "print()\n",
    "print('RMSE for test data: ',np.sqrt(mean_squared_error(y_test,pred_test)))\n",
    "print()\n",
    "print(history.history.keys())\n",
    "# \"Loss\"\n",
    "plt.plot(history.history['loss'])\n",
    "plt.plot(history.history['val_loss'])\n",
    "plt.title('model loss')\n",
    "plt.ylabel('loss')\n",
    "plt.xlabel('epoch')\n",
    "plt.legend(['train', 'validation'], loc='upper right')\n",
    "plt.show()\n"
   ]
  },
  {
   "cell_type": "code",
   "execution_count": 28,
   "id": "cN04Fvj_LBN3",
   "metadata": {
    "colab": {
     "base_uri": "https://localhost:8080/"
    },
    "id": "cN04Fvj_LBN3",
    "outputId": "22959b8a-0758-452c-92f8-a9363b1705f2"
   },
   "outputs": [
    {
     "name": "stderr",
     "output_type": "stream",
     "text": [
      "C:\\Users\\sitar\\AppData\\Local\\Temp\\ipykernel_15172\\2265090091.py:2: DataConversionWarning: A column-vector y was passed when a 1d array was expected. Please change the shape of y to (n_samples,), for example using ravel().\n",
      "  model_rf = RF.fit(X_train,y_train)\n"
     ]
    },
    {
     "name": "stdout",
     "output_type": "stream",
     "text": [
      "Training accuracy = 0.9978965026985975\n",
      "Testing accuracy = 0.9860096980597248\n",
      "\n",
      "\n",
      "RMSE for train data:  0.007759488743690194\n",
      "\n",
      "RMSE for test data:  0.020114624585242935\n"
     ]
    }
   ],
   "source": [
    "RF = RandomForestRegressor()\n",
    "model_rf = RF.fit(X_train,y_train)\n",
    "\n",
    "\n",
    "print('Training accuracy =',model_rf.score(X_train,y_train))\n",
    "print('Testing accuracy =',model_rf.score(X_test,y_test))\n",
    "print()\n",
    "\n",
    "\n",
    "pred_train = model_rf.predict(X_train)\n",
    "print()\n",
    "print('RMSE for train data: ',np.sqrt(mean_squared_error(y_train,pred_train)))\n",
    "pred_test = model_rf.predict(X_test)\n",
    "print()\n",
    "print('RMSE for test data: ',np.sqrt(mean_squared_error(y_test,pred_test)))"
   ]
  },
  {
   "cell_type": "code",
   "execution_count": null,
   "id": "sSPdmhCuqyPE",
   "metadata": {
    "id": "sSPdmhCuqyPE"
   },
   "outputs": [],
   "source": []
  },
  {
   "cell_type": "code",
   "execution_count": null,
   "id": "NA96r6GnrIBh",
   "metadata": {
    "id": "NA96r6GnrIBh"
   },
   "outputs": [],
   "source": []
  },
  {
   "cell_type": "code",
   "execution_count": null,
   "id": "9ud3_WBCrQhR",
   "metadata": {
    "id": "9ud3_WBCrQhR"
   },
   "outputs": [],
   "source": []
  }
 ],
 "metadata": {
  "accelerator": "GPU",
  "colab": {
   "gpuType": "T4",
   "provenance": []
  },
  "kernelspec": {
   "display_name": "Python 3 (ipykernel)",
   "language": "python",
   "name": "python3"
  },
  "language_info": {
   "codemirror_mode": {
    "name": "ipython",
    "version": 3
   },
   "file_extension": ".py",
   "mimetype": "text/x-python",
   "name": "python",
   "nbconvert_exporter": "python",
   "pygments_lexer": "ipython3",
   "version": "3.11.4"
  }
 },
 "nbformat": 4,
 "nbformat_minor": 5
}
